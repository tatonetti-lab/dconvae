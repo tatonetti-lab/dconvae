{
 "cells": [
  {
   "cell_type": "code",
   "execution_count": 399,
   "metadata": {},
   "outputs": [],
   "source": [
    "import os\n",
    "import sys\n",
    "\n",
    "import random\n",
    "import numpy as np\n",
    "import scipy as sp\n",
    "import pandas as pd\n",
    "\n",
    "from collections import Counter, defaultdict\n",
    "\n",
    "import seaborn as sns\n",
    "import matplotlib.pyplot as plt\n",
    "\n",
    "import sklearn.metrics"
   ]
  },
  {
   "cell_type": "code",
   "execution_count": 400,
   "metadata": {},
   "outputs": [],
   "source": [
    "def compute_matrices(m1, m2, num_reports):\n",
    "    print(m1.shape)\n",
    "    print(m2.shape)\n",
    "    A = (m1.T @ m2)\n",
    "    B = (m1.sum(0).reshape((m1.shape[1],1)) - A)\n",
    "    B[B==0] = 1\n",
    "    C = (m2.sum(0) - A)\n",
    "    C[C==0] = 1\n",
    "    D = (num_reports-(A+B+C))\n",
    "    \n",
    "    PRR = ((A/B)/(C/D))\n",
    "    Tc = A/(A+B+C)\n",
    "\n",
    "    return {\n",
    "        'A': A,\n",
    "        'B': B,\n",
    "        'C': C,\n",
    "        'D': D,\n",
    "        'PRR': PRR,\n",
    "        'Tc': Tc\n",
    "    }\n",
    "\n",
    "def build_dataframe(matrices, ordered_m1, m1_name, ordered_m2, m2_name, m12label=None, m22label=None, minA=10):\n",
    "    \n",
    "    mask = matrices['A']>=minA\n",
    "    indices = np.where(mask)\n",
    "    dfdata = {}\n",
    "\n",
    "    dfdata[m1_name] = [ordered_m1[i] for i in indices[0]]\n",
    "    if m12label is not None:\n",
    "        dfdata[f\"{m1_name}_label\"] = [m12label.get(ordered_m1[i], i) for i in indices[0]]\n",
    "    \n",
    "    dfdata[m2_name] = [ordered_m2[i] for i in indices[1]]\n",
    "    if m22label is not None:\n",
    "        dfdata[f\"{m2_name}_label\"] = [m22label.get(ordered_m2[i], i) for i in indices[1]]\n",
    "\n",
    "    for key, mat in matrices.items():\n",
    "        dfdata[key] = mat[mask]\n",
    "\n",
    "    return pd.DataFrame(dfdata)"
   ]
  },
  {
   "cell_type": "code",
   "execution_count": 403,
   "metadata": {},
   "outputs": [],
   "source": [
    "ndrugs = 25\n",
    "\n",
    "drugs = list()\n",
    "for drug in range(ndrugs):\n",
    "    for _ in range(random.randint(1, 10)):\n",
    "        drugs.append(f\"D{drug}\")\n",
    "\n",
    "drug_probs = pd.Series(drugs).value_counts(normalize=True)\n",
    "# drug_probs"
   ]
  },
  {
   "cell_type": "code",
   "execution_count": 404,
   "metadata": {},
   "outputs": [],
   "source": [
    "nreactions = 50\n",
    "\n",
    "reactions = list()\n",
    "for reaction in range(nreactions):\n",
    "    for _ in range(random.randint(2,10)):\n",
    "        reactions.append(f\"Rxn{reaction}\")\n",
    "\n",
    "rxn_probs = pd.Series(reactions).value_counts(normalize=True)\n",
    "# rxn_probs"
   ]
  },
  {
   "cell_type": "code",
   "execution_count": 405,
   "metadata": {},
   "outputs": [],
   "source": [
    "nindications = 30\n",
    "indications = list()\n",
    "for indication in range(nindications):\n",
    "    for _ in range(random.randint(1, 10)):\n",
    "        indications.append(f\"I{indication}\")\n",
    "\n",
    "ind_probs = pd.Series(indications).value_counts(normalize=True)"
   ]
  },
  {
   "cell_type": "code",
   "execution_count": 406,
   "metadata": {},
   "outputs": [
    {
     "data": {
      "image/png": "[encoded data removed]",
      "text/plain": [
       "<Figure size 500x200 with 1 Axes>"
      ]
     },
     "metadata": {},
     "output_type": "display_data"
    }
   ],
   "source": [
    "drug_rxn_factors = dict()\n",
    "drug_rxn_truth = dict()\n",
    "\n",
    "proportion_true = 0.10\n",
    "\n",
    "for drug in drug_probs.index:\n",
    "    for rxn in rxn_probs.index:\n",
    "        if np.random.rand() <= proportion_true:\n",
    "            # true drug->reactions relationships\n",
    "            factor = np.exp(np.random.normal(1, 1))\n",
    "            drug_rxn_truth[(drug,rxn)] = 1.0\n",
    "        else:\n",
    "            # not true relatinoship \n",
    "            factor = np.exp(np.random.normal(0, 0.1))\n",
    "            drug_rxn_truth[(drug,rxn)] = 0.0\n",
    "        drug_rxn_factors[(drug,rxn)] = factor\n",
    "\n",
    "drf = list()\n",
    "for drug in drug_probs.index:\n",
    "    drf.append([drug_rxn_factors[(drug, rxn)] for rxn in rxn_probs.index])\n",
    "\n",
    "plt.figure(figsize=(5,2))\n",
    "# plt.hist(np.log(list(drug_rxn_factors.values())), bins=100)\n",
    "plt.hist(drug_rxn_factors.values(), bins=100)\n",
    "sns.despine()"
   ]
  },
  {
   "cell_type": "code",
   "execution_count": 555,
   "metadata": {},
   "outputs": [],
   "source": [
    "nreports = 10000\n",
    "\n",
    "reports = list()\n",
    "\n",
    "for rid in range(nreports):\n",
    "    drugid = np.random.choice(len(drug_probs), 1, True, p=drug_probs)[0]\n",
    "    adjusted_probs = drf[drugid]*rxn_probs\n",
    "    adjusted_probs /= (adjusted_probs).sum()\n",
    "    rxnid = np.random.choice(len(rxn_probs), 1, True, p=adjusted_probs)[0]\n",
    "    reports.append([rid, drugid, rxnid])\n",
    "\n",
    "# drugs, rxns"
   ]
  },
  {
   "cell_type": "code",
   "execution_count": 556,
   "metadata": {},
   "outputs": [
    {
     "data": {
      "image/png": "[encoded data removed]",
      "text/plain": [
       "<Figure size 500x200 with 1 Axes>"
      ]
     },
     "metadata": {},
     "output_type": "display_data"
    }
   ],
   "source": [
    "ind_rxn_factors = dict()\n",
    "\n",
    "for ind in ind_probs.index:\n",
    "    # randomly select one reaction that this indication will cause\n",
    "    rxnid = np.random.choice(len(rxn_probs), 1, True)[0]\n",
    "    rxn = rxn_probs.index[rxnid]\n",
    "    # indications cause big reactions\n",
    "    factor = np.exp(np.random.normal(5, 1))\n",
    "    ind_rxn_factors[(ind,rxn)] = factor\n",
    "\n",
    "irf = list()\n",
    "for ind in ind_probs.index:\n",
    "    irf.append([ind_rxn_factors.get((ind, rxn), 1.0) for rxn in rxn_probs.index])\n",
    "\n",
    "plt.figure(figsize=(5,2))\n",
    "# plt.hist(np.log(list(drug_rxn_factors.values())), bins=100)\n",
    "plt.hist(ind_rxn_factors.values(), bins=100)\n",
    "sns.despine()"
   ]
  },
  {
   "cell_type": "code",
   "execution_count": 557,
   "metadata": {},
   "outputs": [],
   "source": [
    "# establish correlations between drugs and indications\n",
    "\n",
    "drug_indid_probs = defaultdict(dict)\n",
    "for drug in drug_probs.index:\n",
    "    num_inds = max(1, np.random.poisson(lam=2))\n",
    "    random_inds = np.random.choice(len(ind_probs), num_inds, False)\n",
    "    inds = list()\n",
    "    for ind in random_inds:\n",
    "        for _ in range(random.randint(2,10)):\n",
    "            inds.append(ind)\n",
    "    \n",
    "    diprobs = pd.Series(inds).value_counts(normalize=True)\n",
    "    for ind, prob in diprobs.items():\n",
    "        drug_indid_probs[drug][ind] = prob\n",
    "\n",
    "# plt.hist(drug_ind_probs.values());\n",
    "# drug_indid_probs"
   ]
  },
  {
   "cell_type": "code",
   "execution_count": 566,
   "metadata": {},
   "outputs": [],
   "source": [
    "# build report x drug, report by rxn, and report by indication matrices\n",
    "\n",
    "# reports by drugs\n",
    "drugs = np.zeros(shape=(nreports, len(drug_probs)))\n",
    "# reports by reactions\n",
    "rxns = np.zeros(shape=(nreports, len(rxn_probs)))\n",
    "# reports by indications\n",
    "inds = np.zeros(shape=(nreports, len(ind_probs)))\n",
    "\n",
    "for rid, drugid, rxnid in reports:\n",
    "    \n",
    "    # first add the drug and the reaction\n",
    "    drugs[rid, drugid] = 1\n",
    "    rxns[rid, rxnid] = 1\n",
    "\n",
    "    # check to see if the drug's indications add any reactions to this report\n",
    "    indids, probs = zip(*drug_indid_probs[drug_probs.index[drugid]].items())\n",
    "    indid = np.random.choice(indids, 1, True, p=probs)[0]\n",
    "    ind = ind_probs.index[indid][0]\n",
    "\n",
    "    adjusted_probs = irf[indid]*rxn_probs\n",
    "    adjusted_probs /= (adjusted_probs).sum()\n",
    "    rxnid = np.random.choice(len(rxn_probs), 1, True, p=adjusted_probs)[0]\n",
    "    inds[rid, indid] = 1\n",
    "    rxns[rid, rxnid] = 1\n",
    "    "
   ]
  },
  {
   "cell_type": "code",
   "execution_count": 574,
   "metadata": {},
   "outputs": [
    {
     "data": {
      "text/plain": [
       "numpy.ndarray"
      ]
     },
     "execution_count": 574,
     "metadata": {},
     "output_type": "execute_result"
    }
   ],
   "source": [
    "type(drugs)"
   ]
  },
  {
   "cell_type": "code",
   "execution_count": 567,
   "metadata": {},
   "outputs": [],
   "source": [
    "# A = (drugs.T @ rxns)\n",
    "# print(A.shape, drugs.sum(0).reshape((10,1)).shape)\n",
    "# B = (drugs.sum(0).reshape((drugs.shape[1],1))-A)\n",
    "# drugs.shape, rxns.shape, drugs.sum(0).shape"
   ]
  },
  {
   "cell_type": "code",
   "execution_count": 568,
   "metadata": {},
   "outputs": [
    {
     "name": "stdout",
     "output_type": "stream",
     "text": [
      "(10000, 25)\n",
      "(10000, 50)\n"
     ]
    },
    {
     "data": {
      "text/html": [
       "<div>\n",
       "<style scoped>\n",
       "    .dataframe tbody tr th:only-of-type {\n",
       "        vertical-align: middle;\n",
       "    }\n",
       "\n",
       "    .dataframe tbody tr th {\n",
       "        vertical-align: top;\n",
       "    }\n",
       "\n",
       "    .dataframe thead th {\n",
       "        text-align: right;\n",
       "    }\n",
       "</style>\n",
       "<table border=\"1\" class=\"dataframe\">\n",
       "  <thead>\n",
       "    <tr style=\"text-align: right;\">\n",
       "      <th></th>\n",
       "      <th>drug</th>\n",
       "      <th>reaction</th>\n",
       "      <th>A</th>\n",
       "      <th>B</th>\n",
       "      <th>C</th>\n",
       "      <th>D</th>\n",
       "      <th>PRR</th>\n",
       "      <th>Tc</th>\n",
       "      <th>factor</th>\n",
       "      <th>truth</th>\n",
       "    </tr>\n",
       "  </thead>\n",
       "  <tbody>\n",
       "    <tr>\n",
       "      <th>1095</th>\n",
       "      <td>D10</td>\n",
       "      <td>Rxn21</td>\n",
       "      <td>63.0</td>\n",
       "      <td>10.0</td>\n",
       "      <td>228.0</td>\n",
       "      <td>9699.0</td>\n",
       "      <td>267.998684</td>\n",
       "      <td>0.209302</td>\n",
       "      <td>0.927465</td>\n",
       "      <td>0.0</td>\n",
       "    </tr>\n",
       "    <tr>\n",
       "      <th>197</th>\n",
       "      <td>D8</td>\n",
       "      <td>Rxn16</td>\n",
       "      <td>551.0</td>\n",
       "      <td>195.0</td>\n",
       "      <td>118.0</td>\n",
       "      <td>9136.0</td>\n",
       "      <td>218.771664</td>\n",
       "      <td>0.637731</td>\n",
       "      <td>0.927195</td>\n",
       "      <td>0.0</td>\n",
       "    </tr>\n",
       "    <tr>\n",
       "      <th>1064</th>\n",
       "      <td>D13</td>\n",
       "      <td>Rxn40</td>\n",
       "      <td>61.0</td>\n",
       "      <td>16.0</td>\n",
       "      <td>384.0</td>\n",
       "      <td>9539.0</td>\n",
       "      <td>94.706868</td>\n",
       "      <td>0.132321</td>\n",
       "      <td>0.863634</td>\n",
       "      <td>0.0</td>\n",
       "    </tr>\n",
       "    <tr>\n",
       "      <th>418</th>\n",
       "      <td>D21</td>\n",
       "      <td>Rxn2</td>\n",
       "      <td>376.0</td>\n",
       "      <td>63.0</td>\n",
       "      <td>570.0</td>\n",
       "      <td>8991.0</td>\n",
       "      <td>94.141353</td>\n",
       "      <td>0.372646</td>\n",
       "      <td>1.134439</td>\n",
       "      <td>0.0</td>\n",
       "    </tr>\n",
       "    <tr>\n",
       "      <th>48</th>\n",
       "      <td>D16</td>\n",
       "      <td>Rxn46</td>\n",
       "      <td>611.0</td>\n",
       "      <td>239.0</td>\n",
       "      <td>561.0</td>\n",
       "      <td>8589.0</td>\n",
       "      <td>39.140201</td>\n",
       "      <td>0.433026</td>\n",
       "      <td>1.041682</td>\n",
       "      <td>0.0</td>\n",
       "    </tr>\n",
       "  </tbody>\n",
       "</table>\n",
       "</div>"
      ],
      "text/plain": [
       "     drug reaction      A      B      C       D         PRR        Tc  \\\n",
       "1095  D10    Rxn21   63.0   10.0  228.0  9699.0  267.998684  0.209302   \n",
       "197    D8    Rxn16  551.0  195.0  118.0  9136.0  218.771664  0.637731   \n",
       "1064  D13    Rxn40   61.0   16.0  384.0  9539.0   94.706868  0.132321   \n",
       "418   D21     Rxn2  376.0   63.0  570.0  8991.0   94.141353  0.372646   \n",
       "48    D16    Rxn46  611.0  239.0  561.0  8589.0   39.140201  0.433026   \n",
       "\n",
       "        factor  truth  \n",
       "1095  0.927465    0.0  \n",
       "197   0.927195    0.0  \n",
       "1064  0.863634    0.0  \n",
       "418   1.134439    0.0  \n",
       "48    1.041682    0.0  "
      ]
     },
     "execution_count": 568,
     "metadata": {},
     "output_type": "execute_result"
    }
   ],
   "source": [
    "matrices = compute_matrices(drugs, rxns, num_reports=nreports)\n",
    "drug_rxn = build_dataframe(matrices, drug_probs.index, 'drug', rxn_probs.index, 'reaction', minA=1)\n",
    "drug_rxn['factor'] = [drug_rxn_factors[(d,r)] for _, (d, r) in drug_rxn[['drug', 'reaction']].iterrows()]\n",
    "drug_rxn['truth'] = [drug_rxn_truth[(d, r)] for _, (d, r) in drug_rxn[['drug', 'reaction']].iterrows()]\n",
    "drug_rxn.sort_values(by='PRR', ascending=False).head(5)"
   ]
  },
  {
   "cell_type": "code",
   "execution_count": 569,
   "metadata": {},
   "outputs": [
    {
     "name": "stdout",
     "output_type": "stream",
     "text": [
      "(10000, 30)\n",
      "(10000, 50)\n"
     ]
    },
    {
     "data": {
      "text/html": [
       "<div>\n",
       "<style scoped>\n",
       "    .dataframe tbody tr th:only-of-type {\n",
       "        vertical-align: middle;\n",
       "    }\n",
       "\n",
       "    .dataframe tbody tr th {\n",
       "        vertical-align: top;\n",
       "    }\n",
       "\n",
       "    .dataframe thead th {\n",
       "        text-align: right;\n",
       "    }\n",
       "</style>\n",
       "<table border=\"1\" class=\"dataframe\">\n",
       "  <thead>\n",
       "    <tr style=\"text-align: right;\">\n",
       "      <th></th>\n",
       "      <th>indication</th>\n",
       "      <th>reaction</th>\n",
       "      <th>A</th>\n",
       "      <th>B</th>\n",
       "      <th>C</th>\n",
       "      <th>D</th>\n",
       "      <th>PRR</th>\n",
       "      <th>Tc</th>\n",
       "    </tr>\n",
       "  </thead>\n",
       "  <tbody>\n",
       "    <tr>\n",
       "      <th>1054</th>\n",
       "      <td>I21</td>\n",
       "      <td>Rxn40</td>\n",
       "      <td>305.0</td>\n",
       "      <td>75.0</td>\n",
       "      <td>140.0</td>\n",
       "      <td>9480.0</td>\n",
       "      <td>275.371429</td>\n",
       "      <td>0.586538</td>\n",
       "    </tr>\n",
       "    <tr>\n",
       "      <th>798</th>\n",
       "      <td>I18</td>\n",
       "      <td>Rxn21</td>\n",
       "      <td>63.0</td>\n",
       "      <td>10.0</td>\n",
       "      <td>228.0</td>\n",
       "      <td>9699.0</td>\n",
       "      <td>267.998684</td>\n",
       "      <td>0.209302</td>\n",
       "    </tr>\n",
       "    <tr>\n",
       "      <th>506</th>\n",
       "      <td>I26</td>\n",
       "      <td>Rxn2</td>\n",
       "      <td>692.0</td>\n",
       "      <td>109.0</td>\n",
       "      <td>254.0</td>\n",
       "      <td>8945.0</td>\n",
       "      <td>223.576537</td>\n",
       "      <td>0.655924</td>\n",
       "    </tr>\n",
       "    <tr>\n",
       "      <th>386</th>\n",
       "      <td>I19</td>\n",
       "      <td>Rxn16</td>\n",
       "      <td>551.0</td>\n",
       "      <td>195.0</td>\n",
       "      <td>118.0</td>\n",
       "      <td>9136.0</td>\n",
       "      <td>218.771664</td>\n",
       "      <td>0.637731</td>\n",
       "    </tr>\n",
       "    <tr>\n",
       "      <th>313</th>\n",
       "      <td>I20</td>\n",
       "      <td>Rxn39</td>\n",
       "      <td>209.0</td>\n",
       "      <td>13.0</td>\n",
       "      <td>783.0</td>\n",
       "      <td>8995.0</td>\n",
       "      <td>184.689557</td>\n",
       "      <td>0.207960</td>\n",
       "    </tr>\n",
       "  </tbody>\n",
       "</table>\n",
       "</div>"
      ],
      "text/plain": [
       "     indication reaction      A      B      C       D         PRR        Tc\n",
       "1054        I21    Rxn40  305.0   75.0  140.0  9480.0  275.371429  0.586538\n",
       "798         I18    Rxn21   63.0   10.0  228.0  9699.0  267.998684  0.209302\n",
       "506         I26     Rxn2  692.0  109.0  254.0  8945.0  223.576537  0.655924\n",
       "386         I19    Rxn16  551.0  195.0  118.0  9136.0  218.771664  0.637731\n",
       "313         I20    Rxn39  209.0   13.0  783.0  8995.0  184.689557  0.207960"
      ]
     },
     "execution_count": 569,
     "metadata": {},
     "output_type": "execute_result"
    }
   ],
   "source": [
    "matrices = compute_matrices(inds, rxns, num_reports=nreports)\n",
    "ind_rxn = build_dataframe(matrices, ind_probs.index, 'indication', rxn_probs.index, 'reaction', minA=1)\n",
    "ind_rxn.sort_values(by='PRR', ascending=False).head()"
   ]
  },
  {
   "cell_type": "code",
   "execution_count": 570,
   "metadata": {},
   "outputs": [
    {
     "name": "stdout",
     "output_type": "stream",
     "text": [
      "(10000, 30)\n",
      "(10000, 25)\n"
     ]
    },
    {
     "data": {
      "text/html": [
       "<div>\n",
       "<style scoped>\n",
       "    .dataframe tbody tr th:only-of-type {\n",
       "        vertical-align: middle;\n",
       "    }\n",
       "\n",
       "    .dataframe tbody tr th {\n",
       "        vertical-align: top;\n",
       "    }\n",
       "\n",
       "    .dataframe thead th {\n",
       "        text-align: right;\n",
       "    }\n",
       "</style>\n",
       "<table border=\"1\" class=\"dataframe\">\n",
       "  <thead>\n",
       "    <tr style=\"text-align: right;\">\n",
       "      <th></th>\n",
       "      <th>indication</th>\n",
       "      <th>drug</th>\n",
       "      <th>A</th>\n",
       "      <th>B</th>\n",
       "      <th>C</th>\n",
       "      <th>D</th>\n",
       "      <th>PRR</th>\n",
       "      <th>Tc</th>\n",
       "    </tr>\n",
       "  </thead>\n",
       "  <tbody>\n",
       "    <tr>\n",
       "      <th>14</th>\n",
       "      <td>I19</td>\n",
       "      <td>D8</td>\n",
       "      <td>746.0</td>\n",
       "      <td>1.0</td>\n",
       "      <td>1.0</td>\n",
       "      <td>9252.0</td>\n",
       "      <td>6.901992e+06</td>\n",
       "      <td>0.997326</td>\n",
       "    </tr>\n",
       "    <tr>\n",
       "      <th>31</th>\n",
       "      <td>I18</td>\n",
       "      <td>D10</td>\n",
       "      <td>73.0</td>\n",
       "      <td>1.0</td>\n",
       "      <td>1.0</td>\n",
       "      <td>9925.0</td>\n",
       "      <td>7.245250e+05</td>\n",
       "      <td>0.973333</td>\n",
       "    </tr>\n",
       "    <tr>\n",
       "      <th>21</th>\n",
       "      <td>I16</td>\n",
       "      <td>D20</td>\n",
       "      <td>681.0</td>\n",
       "      <td>304.0</td>\n",
       "      <td>1.0</td>\n",
       "      <td>9014.0</td>\n",
       "      <td>2.019255e+04</td>\n",
       "      <td>0.690669</td>\n",
       "    </tr>\n",
       "    <tr>\n",
       "      <th>0</th>\n",
       "      <td>I8</td>\n",
       "      <td>D5</td>\n",
       "      <td>165.0</td>\n",
       "      <td>1.0</td>\n",
       "      <td>80.0</td>\n",
       "      <td>9754.0</td>\n",
       "      <td>2.011762e+04</td>\n",
       "      <td>0.670732</td>\n",
       "    </tr>\n",
       "    <tr>\n",
       "      <th>3</th>\n",
       "      <td>I25</td>\n",
       "      <td>D16</td>\n",
       "      <td>850.0</td>\n",
       "      <td>495.0</td>\n",
       "      <td>1.0</td>\n",
       "      <td>8654.0</td>\n",
       "      <td>1.486040e+04</td>\n",
       "      <td>0.631501</td>\n",
       "    </tr>\n",
       "  </tbody>\n",
       "</table>\n",
       "</div>"
      ],
      "text/plain": [
       "   indication drug      A      B     C       D           PRR        Tc\n",
       "14        I19   D8  746.0    1.0   1.0  9252.0  6.901992e+06  0.997326\n",
       "31        I18  D10   73.0    1.0   1.0  9925.0  7.245250e+05  0.973333\n",
       "21        I16  D20  681.0  304.0   1.0  9014.0  2.019255e+04  0.690669\n",
       "0          I8   D5  165.0    1.0  80.0  9754.0  2.011762e+04  0.670732\n",
       "3         I25  D16  850.0  495.0   1.0  8654.0  1.486040e+04  0.631501"
      ]
     },
     "execution_count": 570,
     "metadata": {},
     "output_type": "execute_result"
    }
   ],
   "source": [
    "matrices = compute_matrices(inds, drugs, num_reports=nreports)\n",
    "ind_ing = build_dataframe(matrices, ind_probs.index, 'indication', drug_probs.index, 'drug', minA=1)\n",
    "ind_ing.sort_values(by='PRR', ascending=False).head()"
   ]
  },
  {
   "cell_type": "code",
   "execution_count": 571,
   "metadata": {},
   "outputs": [],
   "source": [
    "# matrices = compute_matrices(drugs, drugs, num_reports=nreports)\n",
    "\n",
    "# ing_ing = build_dataframe(matrices,\n",
    "#                           drug_probs.index, 'ingredient1',\n",
    "#                           drug_probs.index, 'ingredient2',\n",
    "#                           minA=1)\n",
    "\n",
    "# ing_ing = ing_ing[ing_ing['ingredient1'] != ing_ing['ingredient2']]\n",
    "# ing_ing.sort_values(by='Tc', ascending=False).head(10)"
   ]
  },
  {
   "cell_type": "code",
   "execution_count": 572,
   "metadata": {},
   "outputs": [
    {
     "name": "stdout",
     "output_type": "stream",
     "text": [
      "Ind PRRs greatrer than 10: 51\n",
      "(51, 6)\n"
     ]
    },
    {
     "data": {
      "text/plain": [
       "SignificanceResult(statistic=0.745989728465327, pvalue=3.3436550132642363e-10)"
      ]
     },
     "execution_count": 572,
     "metadata": {},
     "output_type": "execute_result"
    },
    {
     "data": {
      "image/png": "[encoded data removed]",
      "text/plain": [
       "<Figure size 500x300 with 1 Axes>"
      ]
     },
     "metadata": {},
     "output_type": "display_data"
    }
   ],
   "source": [
    "# build datafraem to look at confounding by indication\n",
    "ind_keep = ['drug', \n",
    "        'reaction', \n",
    "        'indication',\n",
    "        'PRR_ing_rxn',\n",
    "        'PRR_ind_ing',\n",
    "        'PRR_ind_rxn']\n",
    "ind_merged = drug_rxn.merge(ind_ing, \n",
    "                            on='drug',\n",
    "                            suffixes=('_ing_rxn', '_ind_ing')\n",
    "                          ).merge(ind_rxn,\n",
    "                            on=('indication', 'reaction',),\n",
    "                            suffixes=('', '_ind_rxn'))\n",
    "\n",
    "ind_merged.rename(columns={'PRR': 'PRR_ind_rxn'}, inplace=True)\n",
    "ind_reduced = ind_merged[ind_keep]\n",
    "# reduced[reduced['reaction']=='35506628'].head()\n",
    "\n",
    "# plt.figure(figsize=(5,3))\n",
    "# plt.hist(ind_reduced[ind_reduced['PRR_ind_rxn']>1]['PRR_ind_rxn'], bins=100)\n",
    "\n",
    "print(f\"Ind PRRs greatrer than 10: {(ind_reduced['PRR_ind_rxn'] > 10).sum()}\")\n",
    "\n",
    "# we only care about whent the relationship between the indication and the reaction is high\n",
    "ind_rxn_high = ind_reduced[ind_reduced['PRR_ind_rxn'] > 10]\n",
    "print(ind_rxn_high.shape)\n",
    "\n",
    "plt.figure(figsize=(5,3))\n",
    "plt.scatter(ind_rxn_high['PRR_ind_ing'], ind_rxn_high['PRR_ing_rxn'], alpha=0.4)\n",
    "plt.xscale('log')\n",
    "plt.yscale('log')\n",
    "plt.xlabel('PRR for Ingredient and Indication')\n",
    "plt.ylabel('PRR for Ingredient and Confounded Reaction')\n",
    "sns.despine()\n",
    "\n",
    "sp.stats.spearmanr(ind_rxn_high['PRR_ind_ing'], ind_rxn_high['PRR_ing_rxn'])"
   ]
  },
  {
   "cell_type": "code",
   "execution_count": 573,
   "metadata": {},
   "outputs": [
    {
     "name": "stdout",
     "output_type": "stream",
     "text": [
      "Tc: SignificanceResult(statistic=0.1980334868926225, pvalue=5.25795643572028e-12)\n",
      "PRR: SignificanceResult(statistic=0.24605911704553274, pvalue=6.7412474876345605e-18)\n",
      "Tc AUROC: 0.725 AUPR: 0.282\n",
      "PRR AUROC: 0.752 AUPR: 0.311\n"
     ]
    },
    {
     "data": {
      "image/png": "[encoded data removed]",
      "text/plain": [
       "<Figure size 1000x300 with 2 Axes>"
      ]
     },
     "metadata": {},
     "output_type": "display_data"
    }
   ],
   "source": [
    "plt.figure(figsize=(10,3))\n",
    "plt.subplot(1,2,1)\n",
    "plt.scatter(drug_rxn['factor'], drug_rxn['Tc'], alpha=0.4)\n",
    "plt.xlabel('Factor')\n",
    "# plt.xscale('log')\n",
    "plt.ylabel('Tc')\n",
    "sns.despine()\n",
    "plt.subplot(1,2,2)\n",
    "plt.scatter(drug_rxn['factor'], drug_rxn['PRR'], alpha=0.4)\n",
    "plt.xlabel('Factor')\n",
    "plt.xscale('log')\n",
    "plt.ylabel('PRR')\n",
    "plt.yscale('log')\n",
    "sns.despine()\n",
    "\n",
    "print(f\"Tc: {sp.stats.spearmanr(drug_rxn['factor'], drug_rxn['Tc'])}\")\n",
    "print(f\"PRR: {sp.stats.spearmanr(drug_rxn['factor'], drug_rxn['PRR'])}\")\n",
    "print(f\"Tc AUROC: {sklearn.metrics.roc_auc_score(drug_rxn['truth'], drug_rxn['Tc']):.3f} AUPR: {sklearn.metrics.average_precision_score(drug_rxn['truth'], drug_rxn['Tc']):.3f}\")\n",
    "print(f\"PRR AUROC: {sklearn.metrics.roc_auc_score(drug_rxn['truth'], drug_rxn['PRR']):.3f} AUPR: {sklearn.metrics.average_precision_score(drug_rxn['truth'], drug_rxn['PRR']):.3f}\")"
   ]
  },
  {
   "cell_type": "code",
   "execution_count": 575,
   "metadata": {},
   "outputs": [
    {
     "data": {
      "text/plain": [
       "<module 'sklearn.metrics' from '/Library/Frameworks/Python.framework/Versions/3.11/lib/python3.11/site-packages/sklearn/metrics/__init__.py'>"
      ]
     },
     "execution_count": 575,
     "metadata": {},
     "output_type": "execute_result"
    }
   ],
   "source": [
    "sklearn.metrics"
   ]
  },
  {
   "cell_type": "code",
   "execution_count": null,
   "metadata": {},
   "outputs": [],
   "source": []
  }
 ],
 "metadata": {
  "kernelspec": {
   "display_name": "Python 3",
   "language": "python",
   "name": "python3"
  },
  "language_info": {
   "codemirror_mode": {
    "name": "ipython",
    "version": 3
   },
   "file_extension": ".py",
   "mimetype": "text/x-python",
   "name": "python",
   "nbconvert_exporter": "python",
   "pygments_lexer": "ipython3",
   "version": "3.11.6"
  }
 },
 "nbformat": 4,
 "nbformat_minor": 2
}
