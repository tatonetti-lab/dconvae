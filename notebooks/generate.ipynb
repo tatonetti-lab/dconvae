{
 "cells": [
  {
   "cell_type": "code",
   "execution_count": 399,
   "metadata": {},
   "outputs": [],
   "source": [
    "import os\n",
    "import sys\n",
    "\n",
    "import random\n",
    "import numpy as np\n",
    "import scipy as sp\n",
    "import pandas as pd\n",
    "\n",
    "from collections import Counter, defaultdict\n",
    "\n",
    "import seaborn as sns\n",
    "import matplotlib.pyplot as plt\n",
    "\n",
    "import sklearn"
   ]
  },
  {
   "cell_type": "code",
   "execution_count": 400,
   "metadata": {},
   "outputs": [],
   "source": [
    "def compute_matrices(m1, m2, num_reports):\n",
    "    print(m1.shape)\n",
    "    print(m2.shape)\n",
    "    A = (m1.T @ m2)\n",
    "    B = (m1.sum(0).reshape((m1.shape[1],1)) - A)\n",
    "    B[B==0] = 1\n",
    "    C = (m2.sum(0) - A)\n",
    "    C[C==0] = 1\n",
    "    D = (num_reports-(A+B+C))\n",
    "    \n",
    "    PRR = ((A/B)/(C/D))\n",
    "    Tc = A/(A+B+C)\n",
    "\n",
    "    return {\n",
    "        'A': A,\n",
    "        'B': B,\n",
    "        'C': C,\n",
    "        'D': D,\n",
    "        'PRR': PRR,\n",
    "        'Tc': Tc\n",
    "    }\n",
    "\n",
    "def build_dataframe(matrices, ordered_m1, m1_name, ordered_m2, m2_name, m12label=None, m22label=None, minA=10):\n",
    "    \n",
    "    mask = matrices['A']>=minA\n",
    "    indices = np.where(mask)\n",
    "    dfdata = {}\n",
    "\n",
    "    dfdata[m1_name] = [ordered_m1[i] for i in indices[0]]\n",
    "    if m12label is not None:\n",
    "        dfdata[f\"{m1_name}_label\"] = [m12label.get(ordered_m1[i], i) for i in indices[0]]\n",
    "    \n",
    "    dfdata[m2_name] = [ordered_m2[i] for i in indices[1]]\n",
    "    if m22label is not None:\n",
    "        dfdata[f\"{m2_name}_label\"] = [m22label.get(ordered_m2[i], i) for i in indices[1]]\n",
    "\n",
    "    for key, mat in matrices.items():\n",
    "        dfdata[key] = mat[mask]\n",
    "\n",
    "    return pd.DataFrame(dfdata)"
   ]
  },
  {
   "cell_type": "code",
   "execution_count": 403,
   "metadata": {},
   "outputs": [],
   "source": [
    "ndrugs = 25\n",
    "\n",
    "drugs = list()\n",
    "for drug in range(ndrugs):\n",
    "    for _ in range(random.randint(1, 10)):\n",
    "        drugs.append(f\"D{drug}\")\n",
    "\n",
    "drug_probs = pd.Series(drugs).value_counts(normalize=True)\n",
    "# drug_probs"
   ]
  },
  {
   "cell_type": "code",
   "execution_count": 404,
   "metadata": {},
   "outputs": [],
   "source": [
    "nreactions = 50\n",
    "\n",
    "reactions = list()\n",
    "for reaction in range(nreactions):\n",
    "    for _ in range(random.randint(2,10)):\n",
    "        reactions.append(f\"Rxn{reaction}\")\n",
    "\n",
    "rxn_probs = pd.Series(reactions).value_counts(normalize=True)\n",
    "# rxn_probs"
   ]
  },
  {
   "cell_type": "code",
   "execution_count": 405,
   "metadata": {},
   "outputs": [],
   "source": [
    "nindications = 30\n",
    "indications = list()\n",
    "for indication in range(nindications):\n",
    "    for _ in range(random.randint(1, 10)):\n",
    "        indications.append(f\"I{indication}\")\n",
    "\n",
    "ind_probs = pd.Series(indications).value_counts(normalize=True)"
   ]
  },
  {
   "cell_type": "code",
   "execution_count": 406,
   "metadata": {},
   "outputs": [
    {
     "data": {
      "image/png": "[encoded data removed]",
      "text/plain": [
       "<Figure size 500x200 with 1 Axes>"
      ]
     },
     "metadata": {},
     "output_type": "display_data"
    }
   ],
   "source": [
    "drug_rxn_factors = dict()\n",
    "drug_rxn_truth = dict()\n",
    "\n",
    "proportion_true = 0.10\n",
    "\n",
    "for drug in drug_probs.index:\n",
    "    for rxn in rxn_probs.index:\n",
    "        if np.random.rand() <= proportion_true:\n",
    "            # true drug->reactions relationships\n",
    "            factor = np.exp(np.random.normal(1, 1))\n",
    "            drug_rxn_truth[(drug,rxn)] = 1.0\n",
    "        else:\n",
    "            # not true relatinoship \n",
    "            factor = np.exp(np.random.normal(0, 0.1))\n",
    "            drug_rxn_truth[(drug,rxn)] = 0.0\n",
    "        drug_rxn_factors[(drug,rxn)] = factor\n",
    "\n",
    "drf = list()\n",
    "for drug in drug_probs.index:\n",
    "    drf.append([drug_rxn_factors[(drug, rxn)] for rxn in rxn_probs.index])\n",
    "\n",
    "plt.figure(figsize=(5,2))\n",
    "# plt.hist(np.log(list(drug_rxn_factors.values())), bins=100)\n",
    "plt.hist(drug_rxn_factors.values(), bins=100)\n",
    "sns.despine()"
   ]
  },
  {
   "cell_type": "code",
   "execution_count": 457,
   "metadata": {},
   "outputs": [
    {
     "data": {
      "image/png": "[encoded data removed]",
      "text/plain": [
       "<Figure size 500x200 with 1 Axes>"
      ]
     },
     "metadata": {},
     "output_type": "display_data"
    }
   ],
   "source": [
    "ind_rxn_factors = dict()\n",
    "\n",
    "for ind in ind_probs.index:\n",
    "    # randomly select one reaction that this indication will cause\n",
    "    rxnid = np.random.choice(len(rxn_probs), 1, True)[0]\n",
    "    rxn = rxn_probs.index[rxnid]\n",
    "    # indications cause big reactions\n",
    "    factor = np.exp(np.random.normal(10, 1))\n",
    "    ind_rxn_factors[(ind,rxn)] = factor\n",
    "\n",
    "irf = list()\n",
    "for ind in ind_probs.index:\n",
    "    irf.append([ind_rxn_factors.get((ind, rxn), 1.0) for rxn in rxn_probs.index])\n",
    "\n",
    "plt.figure(figsize=(5,2))\n",
    "# plt.hist(np.log(list(drug_rxn_factors.values())), bins=100)\n",
    "plt.hist(ind_rxn_factors.values(), bins=100)\n",
    "sns.despine()"
   ]
  },
  {
   "cell_type": "code",
   "execution_count": 458,
   "metadata": {},
   "outputs": [],
   "source": [
    "# establish correlations between drugs and indications\n",
    "drug_indid_probs = defaultdict(dict)\n",
    "for drug in drug_probs.index:\n",
    "    num_inds = max(1, np.random.poisson(lam=2))\n",
    "    random_inds = np.random.choice(len(ind_probs), num_inds, False)\n",
    "    inds = list()\n",
    "    for ind in random_inds:\n",
    "        for _ in range(random.randint(2,10)):\n",
    "            inds.append(ind)\n",
    "    \n",
    "    diprobs = pd.Series(inds).value_counts(normalize=True)\n",
    "    for ind, prob in diprobs.items():\n",
    "        drug_indid_probs[drug][ind] = prob\n",
    "\n",
    "# plt.hist(drug_ind_probs.values());\n",
    "# drug_indid_probs"
   ]
  },
  {
   "cell_type": "code",
   "execution_count": 489,
   "metadata": {},
   "outputs": [],
   "source": [
    "nreports = 10000\n",
    "\n",
    "# reports by drugs\n",
    "drugs = np.zeros(shape=(nreports, len(drug_probs)))\n",
    "# reports by reactions\n",
    "rxns = np.zeros(shape=(nreports, len(rxn_probs)))\n",
    "# reports by indications\n",
    "inds = np.zeros(shape=(nreports, len(ind_probs)))\n",
    "\n",
    "for rid in range(nreports):\n",
    "    drugid = np.random.choice(len(drug_probs), 1, True, p=drug_probs)[0]\n",
    "    adjusted_probs = drf[drugid]*rxn_probs\n",
    "    adjusted_probs /= (adjusted_probs).sum()\n",
    "    rxnid = np.random.choice(len(rxn_probs), 1, True, p=adjusted_probs)[0]\n",
    "    \n",
    "    # print(rid, drug_probs.index[drugid], rxn_probs.index[rxnid])\n",
    "\n",
    "    drugs[rid, drugid] = 1\n",
    "    rxns[rid, rxnid] = 1\n",
    "\n",
    "    # check to see if the drug's indications add any reactions to this report\n",
    "    indids, probs = zip(*drug_indid_probs[drug_probs.index[drugid]].items())\n",
    "    indid = np.random.choice(indids, 1, True, p=probs)[0]\n",
    "    ind = ind_probs.index[indid][0]\n",
    "\n",
    "    adjusted_probs = irf[indid]*rxn_probs\n",
    "    adjusted_probs /= (adjusted_probs).sum()\n",
    "    rxnid = np.random.choice(len(rxn_probs), 1, True, p=adjusted_probs)[0]\n",
    "\n",
    "    inds[rid, indid] = 1\n",
    "    # rxns[rid, rxnid] = 1\n",
    "# drugs, rxns"
   ]
  },
  {
   "cell_type": "code",
   "execution_count": 490,
   "metadata": {},
   "outputs": [],
   "source": [
    "# A = (drugs.T @ rxns)\n",
    "# print(A.shape, drugs.sum(0).reshape((10,1)).shape)\n",
    "# B = (drugs.sum(0).reshape((drugs.shape[1],1))-A)\n",
    "# drugs.shape, rxns.shape, drugs.sum(0).shape"
   ]
  },
  {
   "cell_type": "code",
   "execution_count": 491,
   "metadata": {},
   "outputs": [
    {
     "name": "stdout",
     "output_type": "stream",
     "text": [
      "(10000, 25)\n",
      "(10000, 50)\n"
     ]
    },
    {
     "data": {
      "text/html": [
       "<div>\n",
       "<style scoped>\n",
       "    .dataframe tbody tr th:only-of-type {\n",
       "        vertical-align: middle;\n",
       "    }\n",
       "\n",
       "    .dataframe tbody tr th {\n",
       "        vertical-align: top;\n",
       "    }\n",
       "\n",
       "    .dataframe thead th {\n",
       "        text-align: right;\n",
       "    }\n",
       "</style>\n",
       "<table border=\"1\" class=\"dataframe\">\n",
       "  <thead>\n",
       "    <tr style=\"text-align: right;\">\n",
       "      <th></th>\n",
       "      <th>drug</th>\n",
       "      <th>reaction</th>\n",
       "      <th>A</th>\n",
       "      <th>B</th>\n",
       "      <th>C</th>\n",
       "      <th>D</th>\n",
       "      <th>PRR</th>\n",
       "      <th>Tc</th>\n",
       "      <th>factor</th>\n",
       "      <th>truth</th>\n",
       "    </tr>\n",
       "  </thead>\n",
       "  <tbody>\n",
       "    <tr>\n",
       "      <th>608</th>\n",
       "      <td>D14</td>\n",
       "      <td>Rxn4</td>\n",
       "      <td>163.0</td>\n",
       "      <td>233.0</td>\n",
       "      <td>246.0</td>\n",
       "      <td>9358.0</td>\n",
       "      <td>26.612129</td>\n",
       "      <td>0.253894</td>\n",
       "      <td>38.553190</td>\n",
       "      <td>1.0</td>\n",
       "    </tr>\n",
       "    <tr>\n",
       "      <th>1048</th>\n",
       "      <td>D10</td>\n",
       "      <td>Rxn24</td>\n",
       "      <td>24.0</td>\n",
       "      <td>50.0</td>\n",
       "      <td>259.0</td>\n",
       "      <td>9667.0</td>\n",
       "      <td>17.915676</td>\n",
       "      <td>0.072072</td>\n",
       "      <td>12.056684</td>\n",
       "      <td>1.0</td>\n",
       "    </tr>\n",
       "    <tr>\n",
       "      <th>1009</th>\n",
       "      <td>D11</td>\n",
       "      <td>Rxn16</td>\n",
       "      <td>13.0</td>\n",
       "      <td>139.0</td>\n",
       "      <td>60.0</td>\n",
       "      <td>9788.0</td>\n",
       "      <td>15.257074</td>\n",
       "      <td>0.061321</td>\n",
       "      <td>20.919458</td>\n",
       "      <td>1.0</td>\n",
       "    </tr>\n",
       "    <tr>\n",
       "      <th>448</th>\n",
       "      <td>D1</td>\n",
       "      <td>Rxn44</td>\n",
       "      <td>137.0</td>\n",
       "      <td>373.0</td>\n",
       "      <td>253.0</td>\n",
       "      <td>9237.0</td>\n",
       "      <td>13.409796</td>\n",
       "      <td>0.179554</td>\n",
       "      <td>12.672189</td>\n",
       "      <td>1.0</td>\n",
       "    </tr>\n",
       "    <tr>\n",
       "      <th>540</th>\n",
       "      <td>D0</td>\n",
       "      <td>Rxn45</td>\n",
       "      <td>52.0</td>\n",
       "      <td>451.0</td>\n",
       "      <td>101.0</td>\n",
       "      <td>9396.0</td>\n",
       "      <td>10.726263</td>\n",
       "      <td>0.086093</td>\n",
       "      <td>16.320028</td>\n",
       "      <td>1.0</td>\n",
       "    </tr>\n",
       "  </tbody>\n",
       "</table>\n",
       "</div>"
      ],
      "text/plain": [
       "     drug reaction      A      B      C       D        PRR        Tc  \\\n",
       "608   D14     Rxn4  163.0  233.0  246.0  9358.0  26.612129  0.253894   \n",
       "1048  D10    Rxn24   24.0   50.0  259.0  9667.0  17.915676  0.072072   \n",
       "1009  D11    Rxn16   13.0  139.0   60.0  9788.0  15.257074  0.061321   \n",
       "448    D1    Rxn44  137.0  373.0  253.0  9237.0  13.409796  0.179554   \n",
       "540    D0    Rxn45   52.0  451.0  101.0  9396.0  10.726263  0.086093   \n",
       "\n",
       "         factor  truth  \n",
       "608   38.553190    1.0  \n",
       "1048  12.056684    1.0  \n",
       "1009  20.919458    1.0  \n",
       "448   12.672189    1.0  \n",
       "540   16.320028    1.0  "
      ]
     },
     "execution_count": 491,
     "metadata": {},
     "output_type": "execute_result"
    }
   ],
   "source": [
    "matrices = compute_matrices(drugs, rxns, num_reports=nreports)\n",
    "drug_rxn = build_dataframe(matrices, drug_probs.index, 'drug', rxn_probs.index, 'reaction', minA=1)\n",
    "drug_rxn['factor'] = [drug_rxn_factors[(d,r)] for _, (d, r) in drug_rxn[['drug', 'reaction']].iterrows()]\n",
    "drug_rxn['truth'] = [drug_rxn_truth[(d, r)] for _, (d, r) in drug_rxn[['drug', 'reaction']].iterrows()]\n",
    "drug_rxn.sort_values(by='PRR', ascending=False).head(5)"
   ]
  },
  {
   "cell_type": "code",
   "execution_count": 492,
   "metadata": {},
   "outputs": [
    {
     "name": "stdout",
     "output_type": "stream",
     "text": [
      "(10000, 30)\n",
      "(10000, 50)\n"
     ]
    },
    {
     "data": {
      "text/html": [
       "<div>\n",
       "<style scoped>\n",
       "    .dataframe tbody tr th:only-of-type {\n",
       "        vertical-align: middle;\n",
       "    }\n",
       "\n",
       "    .dataframe tbody tr th {\n",
       "        vertical-align: top;\n",
       "    }\n",
       "\n",
       "    .dataframe thead th {\n",
       "        text-align: right;\n",
       "    }\n",
       "</style>\n",
       "<table border=\"1\" class=\"dataframe\">\n",
       "  <thead>\n",
       "    <tr style=\"text-align: right;\">\n",
       "      <th></th>\n",
       "      <th>indication</th>\n",
       "      <th>reaction</th>\n",
       "      <th>A</th>\n",
       "      <th>B</th>\n",
       "      <th>C</th>\n",
       "      <th>D</th>\n",
       "      <th>PRR</th>\n",
       "      <th>Tc</th>\n",
       "    </tr>\n",
       "  </thead>\n",
       "  <tbody>\n",
       "    <tr>\n",
       "      <th>931</th>\n",
       "      <td>I27</td>\n",
       "      <td>Rxn22</td>\n",
       "      <td>48.0</td>\n",
       "      <td>155.0</td>\n",
       "      <td>258.0</td>\n",
       "      <td>9539.0</td>\n",
       "      <td>11.449662</td>\n",
       "      <td>0.104121</td>\n",
       "    </tr>\n",
       "    <tr>\n",
       "      <th>261</th>\n",
       "      <td>I12</td>\n",
       "      <td>Rxn16</td>\n",
       "      <td>4.0</td>\n",
       "      <td>52.0</td>\n",
       "      <td>69.0</td>\n",
       "      <td>9875.0</td>\n",
       "      <td>11.008919</td>\n",
       "      <td>0.032000</td>\n",
       "    </tr>\n",
       "    <tr>\n",
       "      <th>586</th>\n",
       "      <td>I16</td>\n",
       "      <td>Rxn16</td>\n",
       "      <td>9.0</td>\n",
       "      <td>134.0</td>\n",
       "      <td>64.0</td>\n",
       "      <td>9793.0</td>\n",
       "      <td>10.277169</td>\n",
       "      <td>0.043478</td>\n",
       "    </tr>\n",
       "    <tr>\n",
       "      <th>826</th>\n",
       "      <td>I4</td>\n",
       "      <td>Rxn44</td>\n",
       "      <td>142.0</td>\n",
       "      <td>650.0</td>\n",
       "      <td>248.0</td>\n",
       "      <td>8960.0</td>\n",
       "      <td>7.892804</td>\n",
       "      <td>0.136538</td>\n",
       "    </tr>\n",
       "    <tr>\n",
       "      <th>976</th>\n",
       "      <td>I21</td>\n",
       "      <td>Rxn43</td>\n",
       "      <td>7.0</td>\n",
       "      <td>30.0</td>\n",
       "      <td>304.0</td>\n",
       "      <td>9659.0</td>\n",
       "      <td>7.413706</td>\n",
       "      <td>0.020528</td>\n",
       "    </tr>\n",
       "  </tbody>\n",
       "</table>\n",
       "</div>"
      ],
      "text/plain": [
       "    indication reaction      A      B      C       D        PRR        Tc\n",
       "931        I27    Rxn22   48.0  155.0  258.0  9539.0  11.449662  0.104121\n",
       "261        I12    Rxn16    4.0   52.0   69.0  9875.0  11.008919  0.032000\n",
       "586        I16    Rxn16    9.0  134.0   64.0  9793.0  10.277169  0.043478\n",
       "826         I4    Rxn44  142.0  650.0  248.0  8960.0   7.892804  0.136538\n",
       "976        I21    Rxn43    7.0   30.0  304.0  9659.0   7.413706  0.020528"
      ]
     },
     "execution_count": 492,
     "metadata": {},
     "output_type": "execute_result"
    }
   ],
   "source": [
    "matrices = compute_matrices(inds, rxns, num_reports=nreports)\n",
    "ind_rxn = build_dataframe(matrices, ind_probs.index, 'indication', rxn_probs.index, 'reaction', minA=1)\n",
    "ind_rxn.sort_values(by='PRR', ascending=False).head()"
   ]
  },
  {
   "cell_type": "code",
   "execution_count": 493,
   "metadata": {},
   "outputs": [
    {
     "name": "stdout",
     "output_type": "stream",
     "text": [
      "(10000, 30)\n",
      "(10000, 25)\n"
     ]
    },
    {
     "data": {
      "text/html": [
       "<div>\n",
       "<style scoped>\n",
       "    .dataframe tbody tr th:only-of-type {\n",
       "        vertical-align: middle;\n",
       "    }\n",
       "\n",
       "    .dataframe tbody tr th {\n",
       "        vertical-align: top;\n",
       "    }\n",
       "\n",
       "    .dataframe thead th {\n",
       "        text-align: right;\n",
       "    }\n",
       "</style>\n",
       "<table border=\"1\" class=\"dataframe\">\n",
       "  <thead>\n",
       "    <tr style=\"text-align: right;\">\n",
       "      <th></th>\n",
       "      <th>indication</th>\n",
       "      <th>drug</th>\n",
       "      <th>A</th>\n",
       "      <th>B</th>\n",
       "      <th>C</th>\n",
       "      <th>D</th>\n",
       "      <th>PRR</th>\n",
       "      <th>Tc</th>\n",
       "    </tr>\n",
       "  </thead>\n",
       "  <tbody>\n",
       "    <tr>\n",
       "      <th>18</th>\n",
       "      <td>I0</td>\n",
       "      <td>D2</td>\n",
       "      <td>657.0</td>\n",
       "      <td>1.0</td>\n",
       "      <td>1.0</td>\n",
       "      <td>9341.0</td>\n",
       "      <td>6.137037e+06</td>\n",
       "      <td>0.996965</td>\n",
       "    </tr>\n",
       "    <tr>\n",
       "      <th>11</th>\n",
       "      <td>I17</td>\n",
       "      <td>D24</td>\n",
       "      <td>87.0</td>\n",
       "      <td>17.0</td>\n",
       "      <td>1.0</td>\n",
       "      <td>9895.0</td>\n",
       "      <td>5.063912e+04</td>\n",
       "      <td>0.828571</td>\n",
       "    </tr>\n",
       "    <tr>\n",
       "      <th>42</th>\n",
       "      <td>I4</td>\n",
       "      <td>D1</td>\n",
       "      <td>510.0</td>\n",
       "      <td>282.0</td>\n",
       "      <td>1.0</td>\n",
       "      <td>9207.0</td>\n",
       "      <td>1.665096e+04</td>\n",
       "      <td>0.643127</td>\n",
       "    </tr>\n",
       "    <tr>\n",
       "      <th>36</th>\n",
       "      <td>I18</td>\n",
       "      <td>D21</td>\n",
       "      <td>220.0</td>\n",
       "      <td>1.0</td>\n",
       "      <td>216.0</td>\n",
       "      <td>9563.0</td>\n",
       "      <td>9.740093e+03</td>\n",
       "      <td>0.503432</td>\n",
       "    </tr>\n",
       "    <tr>\n",
       "      <th>48</th>\n",
       "      <td>I27</td>\n",
       "      <td>D3</td>\n",
       "      <td>203.0</td>\n",
       "      <td>1.0</td>\n",
       "      <td>200.0</td>\n",
       "      <td>9596.0</td>\n",
       "      <td>9.739940e+03</td>\n",
       "      <td>0.502475</td>\n",
       "    </tr>\n",
       "  </tbody>\n",
       "</table>\n",
       "</div>"
      ],
      "text/plain": [
       "   indication drug      A      B      C       D           PRR        Tc\n",
       "18         I0   D2  657.0    1.0    1.0  9341.0  6.137037e+06  0.996965\n",
       "11        I17  D24   87.0   17.0    1.0  9895.0  5.063912e+04  0.828571\n",
       "42         I4   D1  510.0  282.0    1.0  9207.0  1.665096e+04  0.643127\n",
       "36        I18  D21  220.0    1.0  216.0  9563.0  9.740093e+03  0.503432\n",
       "48        I27   D3  203.0    1.0  200.0  9596.0  9.739940e+03  0.502475"
      ]
     },
     "execution_count": 493,
     "metadata": {},
     "output_type": "execute_result"
    }
   ],
   "source": [
    "matrices = compute_matrices(inds, drugs, num_reports=nreports)\n",
    "ind_ing = build_dataframe(matrices, ind_probs.index, 'indication', drug_probs.index, 'drug', minA=1)\n",
    "ind_ing.sort_values(by='PRR', ascending=False).head()"
   ]
  },
  {
   "cell_type": "code",
   "execution_count": 494,
   "metadata": {},
   "outputs": [],
   "source": [
    "# matrices = compute_matrices(drugs, drugs, num_reports=nreports)\n",
    "\n",
    "# ing_ing = build_dataframe(matrices,\n",
    "#                           drug_probs.index, 'ingredient1',\n",
    "#                           drug_probs.index, 'ingredient2',\n",
    "#                           minA=1)\n",
    "\n",
    "# ing_ing = ing_ing[ing_ing['ingredient1'] != ing_ing['ingredient2']]\n",
    "# ing_ing.sort_values(by='Tc', ascending=False).head(10)"
   ]
  },
  {
   "cell_type": "code",
   "execution_count": 495,
   "metadata": {},
   "outputs": [
    {
     "name": "stdout",
     "output_type": "stream",
     "text": [
      "Ind PRRs greatrer than 10: 5\n",
      "(5, 6)\n"
     ]
    },
    {
     "data": {
      "text/plain": [
       "SignificanceResult(statistic=0.6668859288553501, pvalue=0.21889398131323165)"
      ]
     },
     "execution_count": 495,
     "metadata": {},
     "output_type": "execute_result"
    },
    {
     "data": {
      "image/png": "[encoded data removed]",
      "text/plain": [
       "<Figure size 500x300 with 1 Axes>"
      ]
     },
     "metadata": {},
     "output_type": "display_data"
    }
   ],
   "source": [
    "# build datafraem to look at confounding by indication\n",
    "ind_keep = ['drug', \n",
    "        'reaction', \n",
    "        'indication',\n",
    "        'PRR_ing_rxn',\n",
    "        'PRR_ind_ing',\n",
    "        'PRR_ind_rxn']\n",
    "ind_merged = drug_rxn.merge(ind_ing, \n",
    "                            on='drug',\n",
    "                            suffixes=('_ing_rxn', '_ind_ing')\n",
    "                          ).merge(ind_rxn,\n",
    "                            on=('indication', 'reaction',),\n",
    "                            suffixes=('', '_ind_rxn'))\n",
    "\n",
    "ind_merged.rename(columns={'PRR': 'PRR_ind_rxn'}, inplace=True)\n",
    "ind_reduced = ind_merged[ind_keep]\n",
    "# reduced[reduced['reaction']=='35506628'].head()\n",
    "\n",
    "# plt.figure(figsize=(5,3))\n",
    "# plt.hist(ind_reduced[ind_reduced['PRR_ind_rxn']>1]['PRR_ind_rxn'], bins=100)\n",
    "\n",
    "print(f\"Ind PRRs greatrer than 10: {(ind_reduced['PRR_ind_rxn'] > 10).sum()}\")\n",
    "\n",
    "# we only care about whent the relationship between the indication and the reaction is high\n",
    "ind_rxn_high = ind_reduced[ind_reduced['PRR_ind_rxn'] > 10]\n",
    "print(ind_rxn_high.shape)\n",
    "\n",
    "plt.figure(figsize=(5,3))\n",
    "plt.scatter(ind_rxn_high['PRR_ind_ing'], ind_rxn_high['PRR_ing_rxn'], alpha=0.4)\n",
    "plt.xscale('log')\n",
    "plt.yscale('log')\n",
    "plt.xlabel('PRR for Ingredient and Indication')\n",
    "plt.ylabel('PRR for Ingredient and Confounded Reaction')\n",
    "sns.despine()\n",
    "\n",
    "sp.stats.spearmanr(ind_rxn_high['PRR_ind_ing'], ind_rxn_high['PRR_ing_rxn'])"
   ]
  },
  {
   "cell_type": "code",
   "execution_count": 496,
   "metadata": {},
   "outputs": [
    {
     "name": "stdout",
     "output_type": "stream",
     "text": [
      "Tc: SignificanceResult(statistic=0.27312010515532575, pvalue=4.90501900639575e-21)\n",
      "PRR: SignificanceResult(statistic=0.32613946657576676, pvalue=8.785841871861823e-30)\n",
      "Tc AUROC: 0.768 AUPR: 0.638\n",
      "PRR AUROC: 0.810 AUPR: 0.643\n"
     ]
    },
    {
     "data": {
      "image/png": "[encoded data removed]",
      "text/plain": [
       "<Figure size 1000x300 with 2 Axes>"
      ]
     },
     "metadata": {},
     "output_type": "display_data"
    }
   ],
   "source": [
    "plt.figure(figsize=(10,3))\n",
    "plt.subplot(1,2,1)\n",
    "plt.scatter(drug_rxn['factor'], drug_rxn['Tc'], alpha=0.4)\n",
    "plt.xlabel('Factor')\n",
    "# plt.xscale('log')\n",
    "plt.ylabel('Tc')\n",
    "sns.despine()\n",
    "plt.subplot(1,2,2)\n",
    "plt.scatter(drug_rxn['factor'], drug_rxn['PRR'], alpha=0.4)\n",
    "plt.xlabel('Factor')\n",
    "plt.xscale('log')\n",
    "plt.ylabel('PRR')\n",
    "plt.yscale('log')\n",
    "sns.despine()\n",
    "\n",
    "print(f\"Tc: {sp.stats.spearmanr(drug_rxn['factor'], drug_rxn['Tc'])}\")\n",
    "print(f\"PRR: {sp.stats.spearmanr(drug_rxn['factor'], drug_rxn['PRR'])}\")\n",
    "print(f\"Tc AUROC: {sklearn.metrics.roc_auc_score(drug_rxn['truth'], drug_rxn['Tc']):.3f} AUPR: {sklearn.metrics.average_precision_score(drug_rxn['truth'], drug_rxn['Tc']):.3f}\")\n",
    "print(f\"PRR AUROC: {sklearn.metrics.roc_auc_score(drug_rxn['truth'], drug_rxn['PRR']):.3f} AUPR: {sklearn.metrics.average_precision_score(drug_rxn['truth'], drug_rxn['PRR']):.3f}\")"
   ]
  },
  {
   "cell_type": "code",
   "execution_count": null,
   "metadata": {},
   "outputs": [],
   "source": []
  }
 ],
 "metadata": {
  "kernelspec": {
   "display_name": "Python 3",
   "language": "python",
   "name": "python3"
  },
  "language_info": {
   "codemirror_mode": {
    "name": "ipython",
    "version": 3
   },
   "file_extension": ".py",
   "mimetype": "text/x-python",
   "name": "python",
   "nbconvert_exporter": "python",
   "pygments_lexer": "ipython3",
   "version": "3.11.6"
  }
 },
 "nbformat": 4,
 "nbformat_minor": 2
}
