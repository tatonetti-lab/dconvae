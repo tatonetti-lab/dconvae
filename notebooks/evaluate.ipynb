{
 "cells": [
  {
   "cell_type": "code",
   "execution_count": 8,
   "metadata": {},
   "outputs": [],
   "source": [
    "import os\n",
    "import sys\n",
    "import json\n",
    "\n",
    "import random\n",
    "import numpy as np\n",
    "import scipy as sp\n",
    "import pandas as pd\n",
    "\n",
    "from collections import Counter, defaultdict\n",
    "\n",
    "import seaborn as sns\n",
    "import matplotlib.pyplot as plt\n",
    "\n",
    "import sklearn.metrics"
   ]
  },
  {
   "cell_type": "code",
   "execution_count": 38,
   "metadata": {},
   "outputs": [],
   "source": [
    "def compute_matrices(m1, m2, num_reports):\n",
    "    print(m1.shape)\n",
    "    print(m2.shape)\n",
    "    A = (m1.T @ m2)\n",
    "    B = (m1.sum(0).reshape((m1.shape[1],1)) - A)\n",
    "    B[B==0] = 1\n",
    "    C = (m2.sum(0) - A)\n",
    "    C[C==0] = 1\n",
    "    D = (num_reports-(A+B+C))\n",
    "    \n",
    "    PRR = ((A/B)/(C/D))\n",
    "    Tc = A/(A+B+C)\n",
    "\n",
    "    return {\n",
    "        'A': A,\n",
    "        'B': B,\n",
    "        'C': C,\n",
    "        'D': D,\n",
    "        'PRR': PRR,\n",
    "        'Tc': Tc\n",
    "    }\n",
    "\n",
    "def build_dataframe(matrices, ordered_m1, m1_name, ordered_m2, m2_name, m12label=None, m22label=None, minA=10):\n",
    "    \n",
    "    mask = matrices['A']>=minA\n",
    "    indices = np.where(mask)\n",
    "    dfdata = {}\n",
    "\n",
    "    dfdata[m1_name] = [ordered_m1[i] for i in indices[0]]\n",
    "    if m12label is not None:\n",
    "        dfdata[f\"{m1_name}_label\"] = [m12label.get(ordered_m1[i], i) for i in indices[0]]\n",
    "    \n",
    "    dfdata[m2_name] = [ordered_m2[i] for i in indices[1]]\n",
    "    if m22label is not None:\n",
    "        dfdata[f\"{m2_name}_label\"] = [m22label.get(ordered_m2[i], i) for i in indices[1]]\n",
    "\n",
    "    for key, mat in matrices.items():\n",
    "        dfdata[key] = mat[mask]\n",
    "\n",
    "    return pd.DataFrame(dfdata)"
   ]
  },
  {
   "cell_type": "code",
   "execution_count": 5,
   "metadata": {},
   "outputs": [
    {
     "data": {
      "text/plain": [
       "(True, True)"
      ]
     },
     "execution_count": 5,
     "metadata": {},
     "output_type": "execute_result"
    }
   ],
   "source": [
    "dataset_name = 'o3UlI0k1'\n",
    "output_path = os.path.join('..', 'outputs', dataset_name)\n",
    "dataset_path = os.path.join('..', 'data', dataset_name)\n",
    "\n",
    "os.path.exists(output_path), os.path.exists(dataset_path)"
   ]
  },
  {
   "cell_type": "code",
   "execution_count": 10,
   "metadata": {},
   "outputs": [],
   "source": [
    "config_path = os.path.join(dataset_path, 'config.json')\n",
    "if not os.path.exists(config_path):\n",
    "    raise Exception(f\"No config file found at: {config_path}\")\n",
    "config = json.load(open(config_path))"
   ]
  },
  {
   "cell_type": "code",
   "execution_count": 6,
   "metadata": {},
   "outputs": [
    {
     "data": {
      "text/plain": [
       "(100, 1050000)"
      ]
     },
     "execution_count": 6,
     "metadata": {},
     "output_type": "execute_result"
    }
   ],
   "source": [
    "final_predictions = np.load(os.path.join(output_path, 'final_predictions.npy'))\n",
    "final_predictions.shape"
   ]
  },
  {
   "cell_type": "code",
   "execution_count": 16,
   "metadata": {},
   "outputs": [
    {
     "data": {
      "text/plain": [
       "(100, 1049925)"
      ]
     },
     "execution_count": 16,
     "metadata": {},
     "output_type": "execute_result"
    }
   ],
   "source": [
    "# Get dimensions from config\n",
    "ndrugs = config['ndrugs']\n",
    "nreactions = config['nreactions']\n",
    "nindications = config['nindications']\n",
    "nreports = config['nreports']\n",
    "\n",
    "# Calculate start indices for each section\n",
    "drugs_end = ndrugs\n",
    "reactions_end = drugs_end + nreactions\n",
    "\n",
    "# For each prediction, split and reshape\n",
    "drugs = final_predictions[:, :drugs_end]\n",
    "reactions = final_predictions[:, drugs_end:reactions_end]\n",
    "indications = final_predictions[:, reactions_end:]\n",
    "\n",
    "indications.shape"
   ]
  },
  {
   "cell_type": "code",
   "execution_count": 51,
   "metadata": {},
   "outputs": [
    {
     "data": {
      "text/plain": [
       "((10000, 25), (10000, 50), (10000, 30))"
      ]
     },
     "execution_count": 51,
     "metadata": {},
     "output_type": "execute_result"
    }
   ],
   "source": [
    "reshaped = final_predictions[0].reshape(nreports, ndrugs+nreactions+nindications)\n",
    "drugs = reshaped[:,:ndrugs]\n",
    "reactions = reshaped[:,ndrugs:(ndrugs+nreactions)]\n",
    "indications = reshaped[:,(ndrugs+nreactions):]\n",
    "drugs.shape, reactions.shape, indications.shape"
   ]
  },
  {
   "cell_type": "code",
   "execution_count": 52,
   "metadata": {},
   "outputs": [
    {
     "data": {
      "text/plain": [
       "((10000, 25), (10000, 50))"
      ]
     },
     "execution_count": 52,
     "metadata": {},
     "output_type": "execute_result"
    }
   ],
   "source": [
    "target_drugs = sp.sparse.load_npz(os.path.join(dataset_path, 'drugs.npz')).toarray()\n",
    "target_reactions = sp.sparse.load_npz(os.path.join(dataset_path, 'reactions.npz')).toarray()\n",
    "target_drugs.shape, target_reactions.shape"
   ]
  },
  {
   "cell_type": "code",
   "execution_count": 53,
   "metadata": {},
   "outputs": [
    {
     "data": {
      "text/plain": [
       "array([[0., 0., 0., ..., 0., 0., 0.],\n",
       "       [0., 0., 0., ..., 0., 0., 0.],\n",
       "       [0., 0., 0., ..., 0., 0., 0.],\n",
       "       ...,\n",
       "       [1., 0., 0., ..., 0., 0., 0.],\n",
       "       [0., 0., 1., ..., 0., 0., 0.],\n",
       "       [0., 0., 1., ..., 0., 0., 0.]])"
      ]
     },
     "execution_count": 53,
     "metadata": {},
     "output_type": "execute_result"
    }
   ],
   "source": [
    "target_drugs"
   ]
  },
  {
   "cell_type": "code",
   "execution_count": 54,
   "metadata": {},
   "outputs": [
    {
     "data": {
      "text/plain": [
       "(499992, 500000)"
      ]
     },
     "execution_count": 54,
     "metadata": {},
     "output_type": "execute_result"
    }
   ],
   "source": [
    "(reactions==target_reactions).sum(), (reactions.shape[0]*reactions.shape[1])"
   ]
  },
  {
   "cell_type": "code",
   "execution_count": 55,
   "metadata": {},
   "outputs": [],
   "source": [
    "drug_names = list(map(lambda x: f\"D{x}\", range(ndrugs)))\n",
    "reaction_names = list(map(lambda x: f\"D{x}\", range(nreactions)))\n",
    "indication_names = list(map(lambda x: f\"D{x}\", range(nindications)))"
   ]
  },
  {
   "cell_type": "code",
   "execution_count": 56,
   "metadata": {},
   "outputs": [
    {
     "name": "stdout",
     "output_type": "stream",
     "text": [
      "(10000, 25)\n",
      "(10000, 50)\n"
     ]
    },
    {
     "data": {
      "text/html": [
       "<div>\n",
       "<style scoped>\n",
       "    .dataframe tbody tr th:only-of-type {\n",
       "        vertical-align: middle;\n",
       "    }\n",
       "\n",
       "    .dataframe tbody tr th {\n",
       "        vertical-align: top;\n",
       "    }\n",
       "\n",
       "    .dataframe thead th {\n",
       "        text-align: right;\n",
       "    }\n",
       "</style>\n",
       "<table border=\"1\" class=\"dataframe\">\n",
       "  <thead>\n",
       "    <tr style=\"text-align: right;\">\n",
       "      <th></th>\n",
       "      <th>drug</th>\n",
       "      <th>reaction</th>\n",
       "      <th>A</th>\n",
       "      <th>B</th>\n",
       "      <th>C</th>\n",
       "      <th>D</th>\n",
       "      <th>PRR</th>\n",
       "      <th>Tc</th>\n",
       "    </tr>\n",
       "  </thead>\n",
       "  <tbody>\n",
       "    <tr>\n",
       "      <th>787</th>\n",
       "      <td>D15</td>\n",
       "      <td>D42</td>\n",
       "      <td>54.0</td>\n",
       "      <td>310.0</td>\n",
       "      <td>66.0</td>\n",
       "      <td>9570.0</td>\n",
       "      <td>25.258064</td>\n",
       "      <td>0.125581</td>\n",
       "    </tr>\n",
       "    <tr>\n",
       "      <th>15</th>\n",
       "      <td>D0</td>\n",
       "      <td>D15</td>\n",
       "      <td>227.0</td>\n",
       "      <td>481.0</td>\n",
       "      <td>193.0</td>\n",
       "      <td>9099.0</td>\n",
       "      <td>22.249342</td>\n",
       "      <td>0.251942</td>\n",
       "    </tr>\n",
       "    <tr>\n",
       "      <th>390</th>\n",
       "      <td>D7</td>\n",
       "      <td>D41</td>\n",
       "      <td>57.0</td>\n",
       "      <td>433.0</td>\n",
       "      <td>59.0</td>\n",
       "      <td>9451.0</td>\n",
       "      <td>21.086899</td>\n",
       "      <td>0.103825</td>\n",
       "    </tr>\n",
       "    <tr>\n",
       "      <th>319</th>\n",
       "      <td>D6</td>\n",
       "      <td>D19</td>\n",
       "      <td>131.0</td>\n",
       "      <td>456.0</td>\n",
       "      <td>180.0</td>\n",
       "      <td>9233.0</td>\n",
       "      <td>14.735905</td>\n",
       "      <td>0.170795</td>\n",
       "    </tr>\n",
       "    <tr>\n",
       "      <th>129</th>\n",
       "      <td>D2</td>\n",
       "      <td>D29</td>\n",
       "      <td>144.0</td>\n",
       "      <td>552.0</td>\n",
       "      <td>181.0</td>\n",
       "      <td>9123.0</td>\n",
       "      <td>13.148691</td>\n",
       "      <td>0.164196</td>\n",
       "    </tr>\n",
       "  </tbody>\n",
       "</table>\n",
       "</div>"
      ],
      "text/plain": [
       "    drug reaction      A      B      C       D        PRR        Tc\n",
       "787  D15      D42   54.0  310.0   66.0  9570.0  25.258064  0.125581\n",
       "15    D0      D15  227.0  481.0  193.0  9099.0  22.249342  0.251942\n",
       "390   D7      D41   57.0  433.0   59.0  9451.0  21.086899  0.103825\n",
       "319   D6      D19  131.0  456.0  180.0  9233.0  14.735905  0.170795\n",
       "129   D2      D29  144.0  552.0  181.0  9123.0  13.148691  0.164196"
      ]
     },
     "execution_count": 56,
     "metadata": {},
     "output_type": "execute_result"
    }
   ],
   "source": [
    "matrices = compute_matrices(drugs, reactions, num_reports=nreports)\n",
    "drug_rxn = build_dataframe(matrices, drug_names, 'drug', \n",
    "                           reaction_names, 'reaction', minA=1)\n",
    "# drug_rxn['factor'] = [drug_rxn_factors[(d,r)] for _, (d, r) in drug_rxn[['drug', 'reaction']].iterrows()]\n",
    "# drug_rxn['truth'] = [drug_rxn_truth[(d, r)] for _, (d, r) in drug_rxn[['drug', 'reaction']].iterrows()]\n",
    "drug_rxn.sort_values(by='PRR', ascending=False).head(5)"
   ]
  },
  {
   "cell_type": "code",
   "execution_count": 57,
   "metadata": {},
   "outputs": [
    {
     "name": "stdout",
     "output_type": "stream",
     "text": [
      "(10000, 30)\n",
      "(10000, 50)\n"
     ]
    },
    {
     "data": {
      "text/html": [
       "<div>\n",
       "<style scoped>\n",
       "    .dataframe tbody tr th:only-of-type {\n",
       "        vertical-align: middle;\n",
       "    }\n",
       "\n",
       "    .dataframe tbody tr th {\n",
       "        vertical-align: top;\n",
       "    }\n",
       "\n",
       "    .dataframe thead th {\n",
       "        text-align: right;\n",
       "    }\n",
       "</style>\n",
       "<table border=\"1\" class=\"dataframe\">\n",
       "  <thead>\n",
       "    <tr style=\"text-align: right;\">\n",
       "      <th></th>\n",
       "      <th>indication</th>\n",
       "      <th>reaction</th>\n",
       "      <th>A</th>\n",
       "      <th>B</th>\n",
       "      <th>C</th>\n",
       "      <th>D</th>\n",
       "      <th>PRR</th>\n",
       "      <th>Tc</th>\n",
       "    </tr>\n",
       "  </thead>\n",
       "  <tbody>\n",
       "    <tr>\n",
       "      <th>26</th>\n",
       "      <td>D26</td>\n",
       "      <td>D37</td>\n",
       "      <td>1.0</td>\n",
       "      <td>1.0</td>\n",
       "      <td>97.0</td>\n",
       "      <td>9901.0</td>\n",
       "      <td>102.072166</td>\n",
       "      <td>0.010101</td>\n",
       "    </tr>\n",
       "    <tr>\n",
       "      <th>12</th>\n",
       "      <td>D10</td>\n",
       "      <td>D33</td>\n",
       "      <td>1.0</td>\n",
       "      <td>1.0</td>\n",
       "      <td>103.0</td>\n",
       "      <td>9895.0</td>\n",
       "      <td>96.067963</td>\n",
       "      <td>0.009524</td>\n",
       "    </tr>\n",
       "    <tr>\n",
       "      <th>20</th>\n",
       "      <td>D22</td>\n",
       "      <td>D41</td>\n",
       "      <td>1.0</td>\n",
       "      <td>1.0</td>\n",
       "      <td>115.0</td>\n",
       "      <td>9883.0</td>\n",
       "      <td>85.939133</td>\n",
       "      <td>0.008547</td>\n",
       "    </tr>\n",
       "    <tr>\n",
       "      <th>27</th>\n",
       "      <td>D27</td>\n",
       "      <td>D28</td>\n",
       "      <td>1.0</td>\n",
       "      <td>1.0</td>\n",
       "      <td>171.0</td>\n",
       "      <td>9827.0</td>\n",
       "      <td>57.467838</td>\n",
       "      <td>0.005780</td>\n",
       "    </tr>\n",
       "    <tr>\n",
       "      <th>11</th>\n",
       "      <td>D8</td>\n",
       "      <td>D17</td>\n",
       "      <td>1.0</td>\n",
       "      <td>1.0</td>\n",
       "      <td>223.0</td>\n",
       "      <td>9775.0</td>\n",
       "      <td>43.834080</td>\n",
       "      <td>0.004444</td>\n",
       "    </tr>\n",
       "  </tbody>\n",
       "</table>\n",
       "</div>"
      ],
      "text/plain": [
       "   indication reaction    A    B      C       D         PRR        Tc\n",
       "26        D26      D37  1.0  1.0   97.0  9901.0  102.072166  0.010101\n",
       "12        D10      D33  1.0  1.0  103.0  9895.0   96.067963  0.009524\n",
       "20        D22      D41  1.0  1.0  115.0  9883.0   85.939133  0.008547\n",
       "27        D27      D28  1.0  1.0  171.0  9827.0   57.467838  0.005780\n",
       "11         D8      D17  1.0  1.0  223.0  9775.0   43.834080  0.004444"
      ]
     },
     "execution_count": 57,
     "metadata": {},
     "output_type": "execute_result"
    }
   ],
   "source": [
    "matrices = compute_matrices(indications, reactions, num_reports=nreports)\n",
    "ind_rxn = build_dataframe(matrices, indication_names, 'indication', reaction_names, 'reaction', minA=1)\n",
    "ind_rxn.sort_values(by='PRR', ascending=False).head()"
   ]
  },
  {
   "cell_type": "code",
   "execution_count": 58,
   "metadata": {},
   "outputs": [
    {
     "name": "stdout",
     "output_type": "stream",
     "text": [
      "(10000, 30)\n",
      "(10000, 25)\n"
     ]
    },
    {
     "data": {
      "text/html": [
       "<div>\n",
       "<style scoped>\n",
       "    .dataframe tbody tr th:only-of-type {\n",
       "        vertical-align: middle;\n",
       "    }\n",
       "\n",
       "    .dataframe tbody tr th {\n",
       "        vertical-align: top;\n",
       "    }\n",
       "\n",
       "    .dataframe thead th {\n",
       "        text-align: right;\n",
       "    }\n",
       "</style>\n",
       "<table border=\"1\" class=\"dataframe\">\n",
       "  <thead>\n",
       "    <tr style=\"text-align: right;\">\n",
       "      <th></th>\n",
       "      <th>indication</th>\n",
       "      <th>drug</th>\n",
       "      <th>A</th>\n",
       "      <th>B</th>\n",
       "      <th>C</th>\n",
       "      <th>D</th>\n",
       "      <th>PRR</th>\n",
       "      <th>Tc</th>\n",
       "    </tr>\n",
       "  </thead>\n",
       "  <tbody>\n",
       "    <tr>\n",
       "      <th>20</th>\n",
       "      <td>D26</td>\n",
       "      <td>D19</td>\n",
       "      <td>1.0</td>\n",
       "      <td>1.0</td>\n",
       "      <td>178.0</td>\n",
       "      <td>9820.0</td>\n",
       "      <td>55.168537</td>\n",
       "      <td>0.005556</td>\n",
       "    </tr>\n",
       "    <tr>\n",
       "      <th>11</th>\n",
       "      <td>D15</td>\n",
       "      <td>D14</td>\n",
       "      <td>2.0</td>\n",
       "      <td>1.0</td>\n",
       "      <td>402.0</td>\n",
       "      <td>9595.0</td>\n",
       "      <td>47.736320</td>\n",
       "      <td>0.004938</td>\n",
       "    </tr>\n",
       "    <tr>\n",
       "      <th>4</th>\n",
       "      <td>D3</td>\n",
       "      <td>D11</td>\n",
       "      <td>2.0</td>\n",
       "      <td>1.0</td>\n",
       "      <td>454.0</td>\n",
       "      <td>9543.0</td>\n",
       "      <td>42.039650</td>\n",
       "      <td>0.004376</td>\n",
       "    </tr>\n",
       "    <tr>\n",
       "      <th>19</th>\n",
       "      <td>D26</td>\n",
       "      <td>D18</td>\n",
       "      <td>1.0</td>\n",
       "      <td>1.0</td>\n",
       "      <td>293.0</td>\n",
       "      <td>9705.0</td>\n",
       "      <td>33.122868</td>\n",
       "      <td>0.003390</td>\n",
       "    </tr>\n",
       "    <tr>\n",
       "      <th>14</th>\n",
       "      <td>D19</td>\n",
       "      <td>D18</td>\n",
       "      <td>1.0</td>\n",
       "      <td>1.0</td>\n",
       "      <td>293.0</td>\n",
       "      <td>9705.0</td>\n",
       "      <td>33.122868</td>\n",
       "      <td>0.003390</td>\n",
       "    </tr>\n",
       "  </tbody>\n",
       "</table>\n",
       "</div>"
      ],
      "text/plain": [
       "   indication drug    A    B      C       D        PRR        Tc\n",
       "20        D26  D19  1.0  1.0  178.0  9820.0  55.168537  0.005556\n",
       "11        D15  D14  2.0  1.0  402.0  9595.0  47.736320  0.004938\n",
       "4          D3  D11  2.0  1.0  454.0  9543.0  42.039650  0.004376\n",
       "19        D26  D18  1.0  1.0  293.0  9705.0  33.122868  0.003390\n",
       "14        D19  D18  1.0  1.0  293.0  9705.0  33.122868  0.003390"
      ]
     },
     "execution_count": 58,
     "metadata": {},
     "output_type": "execute_result"
    }
   ],
   "source": [
    "matrices = compute_matrices(indications, drugs, num_reports=nreports)\n",
    "ind_ing = build_dataframe(matrices, indication_names, 'indication', drug_names, 'drug', minA=1)\n",
    "ind_ing.sort_values(by='PRR', ascending=False).head()"
   ]
  },
  {
   "cell_type": "code",
   "execution_count": 59,
   "metadata": {},
   "outputs": [
    {
     "name": "stdout",
     "output_type": "stream",
     "text": [
      "Ind PRRs greatrer than 10: 38\n",
      "(38, 6)\n"
     ]
    },
    {
     "data": {
      "text/plain": [
       "SignificanceResult(statistic=-0.012281403152061682, pvalue=0.9416618485730958)"
      ]
     },
     "execution_count": 59,
     "metadata": {},
     "output_type": "execute_result"
    },
    {
     "data": {
      "image/png": "[encoded data removed]",
      "text/plain": [
       "<Figure size 500x300 with 1 Axes>"
      ]
     },
     "metadata": {},
     "output_type": "display_data"
    }
   ],
   "source": [
    "# build datafraem to look at confounding by indication\n",
    "ind_keep = ['drug', \n",
    "        'reaction', \n",
    "        'indication',\n",
    "        'PRR_ing_rxn',\n",
    "        'PRR_ind_ing',\n",
    "        'PRR_ind_rxn']\n",
    "ind_merged = drug_rxn.merge(ind_ing, \n",
    "                            on='drug',\n",
    "                            suffixes=('_ing_rxn', '_ind_ing')\n",
    "                          ).merge(ind_rxn,\n",
    "                            on=('indication', 'reaction',),\n",
    "                            suffixes=('', '_ind_rxn'))\n",
    "\n",
    "ind_merged.rename(columns={'PRR': 'PRR_ind_rxn'}, inplace=True)\n",
    "ind_reduced = ind_merged[ind_keep]\n",
    "# reduced[reduced['reaction']=='35506628'].head()\n",
    "\n",
    "# plt.figure(figsize=(5,3))\n",
    "# plt.hist(ind_reduced[ind_reduced['PRR_ind_rxn']>1]['PRR_ind_rxn'], bins=100)\n",
    "\n",
    "print(f\"Ind PRRs greatrer than 10: {(ind_reduced['PRR_ind_rxn'] > 10).sum()}\")\n",
    "\n",
    "# we only care about whent the relationship between the indication and the reaction is high\n",
    "ind_rxn_high = ind_reduced[ind_reduced['PRR_ind_rxn'] > 10]\n",
    "print(ind_rxn_high.shape)\n",
    "\n",
    "plt.figure(figsize=(5,3))\n",
    "plt.scatter(ind_rxn_high['PRR_ind_ing'], ind_rxn_high['PRR_ing_rxn'], alpha=0.4)\n",
    "plt.xscale('log')\n",
    "plt.yscale('log')\n",
    "plt.xlabel('PRR for Ingredient and Indication')\n",
    "plt.ylabel('PRR for Ingredient and Confounded Reaction')\n",
    "sns.despine()\n",
    "\n",
    "sp.stats.spearmanr(ind_rxn_high['PRR_ind_ing'], ind_rxn_high['PRR_ing_rxn'])"
   ]
  },
  {
   "cell_type": "code",
   "execution_count": null,
   "metadata": {},
   "outputs": [],
   "source": []
  }
 ],
 "metadata": {
  "kernelspec": {
   "display_name": "Python 3",
   "language": "python",
   "name": "python3"
  },
  "language_info": {
   "codemirror_mode": {
    "name": "ipython",
    "version": 3
   },
   "file_extension": ".py",
   "mimetype": "text/x-python",
   "name": "python",
   "nbconvert_exporter": "python",
   "pygments_lexer": "ipython3",
   "version": "3.11.6"
  }
 },
 "nbformat": 4,
 "nbformat_minor": 2
}
